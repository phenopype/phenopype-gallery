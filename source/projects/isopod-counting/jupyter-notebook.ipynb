{
 "cells": [
  {
   "cell_type": "markdown",
   "metadata": {},
   "source": [
    "# Jupyter notebook: counting  isopods"
   ]
  },
  {
   "cell_type": "markdown",
   "metadata": {},
   "source": [
    "First, if you haven't already done so, download the images and unzip them to the same folder as this notebook. Then import phenopype and assign some directoy and file names: "
   ]
  },
  {
   "cell_type": "code",
   "execution_count": 1,
   "metadata": {},
   "outputs": [],
   "source": [
    "import phenopype as pp\n",
    "import os\n",
    "\n",
    "root_dir = r\"phenopype\"                ## project root dir\n",
    "image_dir = \"images\"                   ## folder with images\n",
    "template = \"template-config.yaml\"      ## image processing instructions"
   ]
  },
  {
   "cell_type": "markdown",
   "metadata": {},
   "source": [
    "Now, create a phenopype project, and add images and config:"
   ]
  },
  {
   "cell_type": "code",
   "execution_count": 2,
   "metadata": {},
   "outputs": [
    {
     "name": "stdout",
     "output_type": "stream",
     "text": [
      "--------------------------------------------\n",
      "Creating a new phenopype project directory at:\n",
      "D:\\git-repos\\phenopype\\phenopype-gallery\\source\\projects\\isopod-counting\\phenopype\n",
      "\n"
     ]
    },
    {
     "name": "stdin",
     "output_type": "stream",
     "text": [
      "Proceed? (y/n)\n",
      " y\n"
     ]
    },
    {
     "name": "stdout",
     "output_type": "stream",
     "text": [
      "\n",
      "Project \"phenopype\" successfully created.\n",
      "--------------------------------------------\n"
     ]
    }
   ],
   "source": [
    "proj = pp.Project(root_dir)"
   ]
  },
  {
   "cell_type": "code",
   "execution_count": 3,
   "metadata": {},
   "outputs": [
    {
     "name": "stdout",
     "output_type": "stream",
     "text": [
      "--------------------------------------------\n",
      "phenopype will search for image files at\n",
      "\n",
      "D:\\git-repos\\phenopype\\phenopype-gallery\\source\\projects\\isopod-counting\\images\n",
      "\n",
      "using the following settings:\n",
      "\n",
      "filetypes: ['jpg', 'JPG', 'jpeg', 'JPEG', 'tif', 'png', 'bmp'], include: isopods, exclude: [], mode: link, recursive: False, resize: False, unique: path\n",
      "\n",
      "Found image isopods1.jpg - phenopype-project folder 0__isopods1 created\n",
      "Found image isopods2.jpg - phenopype-project folder 0__isopods2 created\n",
      "Found image isopods3.jpg - phenopype-project folder 0__isopods3 created\n",
      "Found image isopods4.jpg - phenopype-project folder 0__isopods4 created\n",
      "\n",
      "Found 4 files - using all\n",
      "--------------------------------------------\n",
      "- template saved under D:\\git-repos\\phenopype\\phenopype-gallery\\source\\projects\\isopod-counting\\phenopype\\data\\0__isopods1\\pype_config_v1.yaml\n",
      "- template saved under D:\\git-repos\\phenopype\\phenopype-gallery\\source\\projects\\isopod-counting\\phenopype\\data\\0__isopods2\\pype_config_v1.yaml\n",
      "- template saved under D:\\git-repos\\phenopype\\phenopype-gallery\\source\\projects\\isopod-counting\\phenopype\\data\\0__isopods3\\pype_config_v1.yaml\n",
      "- template saved under D:\\git-repos\\phenopype\\phenopype-gallery\\source\\projects\\isopod-counting\\phenopype\\data\\0__isopods4\\pype_config_v1.yaml\n"
     ]
    }
   ],
   "source": [
    "proj.add_files(image_dir = image_dir)\n",
    "proj.add_config(template_path=template, tag=\"v1\")"
   ]
  },
  {
   "cell_type": "markdown",
   "metadata": {},
   "source": [
    "Add a project-wide size and color reference that will be detected in the images:\n",
    "\n",
    "<center>\n",
    "<div style=\"width:600px; text-align: left\">\n",
    "    \n",
    "![](_assets/measure-reference.gif)\n",
    "        \n",
    "</div>\n",
    "</center>"
   ]
  },
  {
   "cell_type": "code",
   "execution_count": 4,
   "metadata": {},
   "outputs": [
    {
     "name": "stdout",
     "output_type": "stream",
     "text": [
      "Reference set\n",
      "Reference image saved under D:\\git-repos\\phenopype\\phenopype-gallery\\source\\projects\\isopod-counting\\phenopype\\reference\\iso-scale_full_image.tif\n",
      "Reference image saved under D:\\git-repos\\phenopype\\phenopype-gallery\\source\\projects\\isopod-counting\\phenopype\\reference\\iso-scale_search_template.tif\n",
      "Saved reference info to project attributes.\n",
      "setting active global project reference to \"iso-scale\" for 0__isopods1 (active=True)\n",
      "setting active global project reference to \"iso-scale\" for 0__isopods2 (active=True)\n",
      "setting active global project reference to \"iso-scale\" for 0__isopods3 (active=True)\n",
      "setting active global project reference to \"iso-scale\" for 0__isopods4 (active=True)\n"
     ]
    }
   ],
   "source": [
    "## set the project-wide reference. the reference has its own tag, in case your project uses multiple reference cards\n",
    "proj.add_reference(reference_image_path=os.path.join(image_dir,\"isopods1.jpg\"), reference_tag=\"iso-scale\")"
   ]
  },
  {
   "cell_type": "markdown",
   "metadata": {},
   "source": [
    "Finally, loop through the images of the project with the `Pype` class. First, create a mask around all specimens, then edit any errors to the contours if necessary:\n",
    "\n",
    "<center>\n",
    "<div style=\"width:600px; text-align: left\">\n",
    "    \n",
    "![](_assets/draw-mask.gif)\n",
    "        \n",
    "</div>\n",
    "</center>\n",
    "\n",
    "Some comments on the settings: changing `blocksize` and `constant` on the threshold algorithm has a great effect on the result. This becomes evident when looking at the binarized image, which shows increasing blocksizes. You can inspect the binary images yourself by selecting `canvas: mod` in `- select_canvas`\n",
    "\n",
    "<center>\n",
    "<div style=\"width:600px; text-align: left\">\n",
    "    \n",
    "![](_assets/thresholding.jpg)\n",
    "    \n",
    "</div>\n",
    "</center>\n"
   ]
  },
  {
   "cell_type": "code",
   "execution_count": 5,
   "metadata": {},
   "outputs": [
    {
     "name": "stdout",
     "output_type": "stream",
     "text": [
      "\n",
      "AUTOLOAD\n",
      "- reference template image loaded from root directory\n",
      "Stage: add annotation control args\n",
      "Stage: add annotation control args\n",
      "Stage: add annotation control args\n",
      "Stage: add annotation control args\n",
      "Stage: add annotation control args\n",
      "Stage: add annotation control args\n",
      "Stage: add annotation control args\n",
      "Updating pype config: applying staged changes\n",
      "\n",
      "\n",
      "------------+++ new pype iteration 2023-10-28 14:56:26 +++--------------\n",
      "\n",
      "==> image name: isopods1.jpg\n",
      "\n",
      "\n",
      "PREPROCESSING\n",
      "create_mask\n",
      "detect_reference\n",
      "---------------------------------------------------\n",
      "Reference card found with 258 keypoint matches:\n",
      "template image has 22.581 pixel per mm.\n",
      "current image has 22.597 pixel per mm.\n",
      "= 100.073 %% of template image.\n",
      "---------------------------------------------------\n",
      "blur\n",
      "\n",
      "\n",
      "SEGMENTATION\n",
      "threshold\n",
      "- decompose image: using blue channel\n",
      "- including pixels from 1 drawn masks \n",
      "- excluding pixels from reference\n",
      "morphology\n",
      "detect_contour\n",
      "- found 22 contours that match criteria\n",
      "edit_contour\n",
      "detect_contour\n",
      "- found 20 contours that match criteria\n",
      "\n",
      "\n",
      "MEASUREMENT\n",
      "compute_shape_features\n",
      "compute_texture_features\n"
     ]
    },
    {
     "name": "stderr",
     "output_type": "stream",
     "text": [
      "Computing texture features: 100%|██████████████████████████████████████████████████████| 20/20 [00:00<00:00, 21.17it/s]\n"
     ]
    },
    {
     "name": "stdout",
     "output_type": "stream",
     "text": [
      "\n",
      "\n",
      "VISUALIZATION\n",
      "select_canvas\n",
      "- invalid selection - defaulting to raw image\n",
      "draw_contour\n",
      "draw_mask\n",
      "draw_reference\n",
      "\n",
      "\n",
      "EXPORT\n",
      "save_canvas\n",
      "- image saved under D:\\git-repos\\phenopype\\phenopype-gallery\\source\\projects\\isopod-counting\\phenopype\\data\\0__isopods1\\canvas_v1.jpg.\n",
      "save_annotation\n",
      "- creating new annotation file\n",
      "- no annotation_type selected - exporting all annotations\n",
      "- writing annotations of type \"mask\" with id \"a\" to \"annotations_v1.json\"\n",
      "- writing annotations of type \"reference\" with id \"a\" to \"annotations_v1.json\"\n",
      "- writing annotations of type \"contour\" with id \"a\" to \"annotations_v1.json\"\n",
      "- writing annotations of type \"contour\" with id \"b\" to \"annotations_v1.json\"\n",
      "- writing annotations of type \"drawing\" with id \"a\" to \"annotations_v1.json\"\n",
      "- writing annotations of type \"shape_features\" with id \"a\" to \"annotations_v1.json\"\n",
      "- writing annotations of type \"texture_features\" with id \"a\" to \"annotations_v1.json\"\n",
      "\n",
      "\n",
      "------------+++ finished pype iteration +++--------------\n",
      "-------(End with Ctrl+Enter or re-run with Enter)--------\n",
      "\n",
      "\n",
      "AUTOSHOW\n",
      "\n",
      "\n",
      "TERMINATE\n",
      "\n",
      "AUTOSAVE\n",
      "- nothing to autosave\n",
      "\n",
      "AUTOLOAD\n",
      "- reference template image loaded from root directory\n",
      "Stage: add annotation control args\n",
      "Stage: add annotation control args\n",
      "Stage: add annotation control args\n",
      "Stage: add annotation control args\n",
      "Stage: add annotation control args\n",
      "Stage: add annotation control args\n",
      "Stage: add annotation control args\n",
      "Updating pype config: applying staged changes\n",
      "\n",
      "\n",
      "------------+++ new pype iteration 2023-10-28 14:56:49 +++--------------\n",
      "\n",
      "==> image name: isopods2.jpg\n",
      "\n",
      "\n",
      "PREPROCESSING\n",
      "create_mask\n",
      "detect_reference\n",
      "---------------------------------------------------\n",
      "Reference card found with 161 keypoint matches:\n",
      "template image has 22.581 pixel per mm.\n",
      "current image has 23.134 pixel per mm.\n",
      "= 102.449 %% of template image.\n",
      "---------------------------------------------------\n",
      "blur\n",
      "\n",
      "\n",
      "SEGMENTATION\n",
      "threshold\n",
      "- decompose image: using blue channel\n",
      "- including pixels from 1 drawn masks \n",
      "- excluding pixels from reference\n",
      "morphology\n",
      "detect_contour\n",
      "- found 16 contours that match criteria\n",
      "edit_contour\n",
      "detect_contour\n",
      "- found 15 contours that match criteria\n",
      "\n",
      "\n",
      "MEASUREMENT\n",
      "compute_shape_features\n",
      "compute_texture_features\n"
     ]
    },
    {
     "name": "stderr",
     "output_type": "stream",
     "text": [
      "Computing texture features: 100%|██████████████████████████████████████████████████████| 15/15 [00:00<00:00, 22.58it/s]\n"
     ]
    },
    {
     "name": "stdout",
     "output_type": "stream",
     "text": [
      "\n",
      "\n",
      "VISUALIZATION\n",
      "select_canvas\n",
      "- invalid selection - defaulting to raw image\n",
      "draw_contour\n",
      "draw_mask\n",
      "draw_reference\n",
      "\n",
      "\n",
      "EXPORT\n",
      "save_canvas\n",
      "- image saved under D:\\git-repos\\phenopype\\phenopype-gallery\\source\\projects\\isopod-counting\\phenopype\\data\\0__isopods2\\canvas_v1.jpg.\n",
      "save_annotation\n",
      "- creating new annotation file\n",
      "- no annotation_type selected - exporting all annotations\n",
      "- writing annotations of type \"mask\" with id \"a\" to \"annotations_v1.json\"\n",
      "- writing annotations of type \"reference\" with id \"a\" to \"annotations_v1.json\"\n",
      "- writing annotations of type \"contour\" with id \"a\" to \"annotations_v1.json\"\n",
      "- writing annotations of type \"contour\" with id \"b\" to \"annotations_v1.json\"\n",
      "- writing annotations of type \"drawing\" with id \"a\" to \"annotations_v1.json\"\n",
      "- writing annotations of type \"shape_features\" with id \"a\" to \"annotations_v1.json\"\n",
      "- writing annotations of type \"texture_features\" with id \"a\" to \"annotations_v1.json\"\n",
      "\n",
      "\n",
      "------------+++ finished pype iteration +++--------------\n",
      "-------(End with Ctrl+Enter or re-run with Enter)--------\n",
      "\n",
      "\n",
      "AUTOSHOW\n",
      "\n",
      "\n",
      "TERMINATE\n",
      "\n",
      "AUTOSAVE\n",
      "- nothing to autosave\n",
      "\n",
      "AUTOLOAD\n",
      "- reference template image loaded from root directory\n",
      "Stage: add annotation control args\n",
      "Stage: add annotation control args\n",
      "Stage: add annotation control args\n",
      "Stage: add annotation control args\n",
      "Stage: add annotation control args\n",
      "Stage: add annotation control args\n",
      "Stage: add annotation control args\n",
      "Updating pype config: applying staged changes\n",
      "\n",
      "\n",
      "------------+++ new pype iteration 2023-10-28 14:57:10 +++--------------\n",
      "\n",
      "==> image name: isopods3.jpg\n",
      "\n",
      "\n",
      "PREPROCESSING\n",
      "create_mask\n",
      "detect_reference\n",
      "---------------------------------------------------\n",
      "Reference card found with 198 keypoint matches:\n",
      "template image has 22.581 pixel per mm.\n",
      "current image has 22.651 pixel per mm.\n",
      "= 100.311 %% of template image.\n",
      "---------------------------------------------------\n",
      "blur\n",
      "\n",
      "\n",
      "SEGMENTATION\n",
      "threshold\n",
      "- decompose image: using blue channel\n",
      "- including pixels from 2 drawn masks \n",
      "- excluding pixels from reference\n",
      "morphology\n",
      "detect_contour\n",
      "- found 20 contours that match criteria\n",
      "edit_contour\n",
      "detect_contour\n",
      "- found 20 contours that match criteria\n",
      "\n",
      "\n",
      "MEASUREMENT\n",
      "compute_shape_features\n",
      "compute_texture_features\n"
     ]
    },
    {
     "name": "stderr",
     "output_type": "stream",
     "text": [
      "Computing texture features: 100%|██████████████████████████████████████████████████████| 20/20 [00:00<00:00, 22.79it/s]\n"
     ]
    },
    {
     "name": "stdout",
     "output_type": "stream",
     "text": [
      "\n",
      "\n",
      "VISUALIZATION\n",
      "select_canvas\n",
      "- invalid selection - defaulting to raw image\n",
      "draw_contour\n",
      "draw_mask\n",
      "draw_reference\n",
      "\n",
      "\n",
      "EXPORT\n",
      "save_canvas\n",
      "- image saved under D:\\git-repos\\phenopype\\phenopype-gallery\\source\\projects\\isopod-counting\\phenopype\\data\\0__isopods3\\canvas_v1.jpg.\n",
      "save_annotation\n",
      "- creating new annotation file\n",
      "- no annotation_type selected - exporting all annotations\n",
      "- writing annotations of type \"mask\" with id \"a\" to \"annotations_v1.json\"\n",
      "- writing annotations of type \"reference\" with id \"a\" to \"annotations_v1.json\"\n",
      "- writing annotations of type \"contour\" with id \"a\" to \"annotations_v1.json\"\n",
      "- writing annotations of type \"contour\" with id \"b\" to \"annotations_v1.json\"\n",
      "- writing annotations of type \"drawing\" with id \"a\" to \"annotations_v1.json\"\n",
      "- writing annotations of type \"shape_features\" with id \"a\" to \"annotations_v1.json\"\n",
      "- writing annotations of type \"texture_features\" with id \"a\" to \"annotations_v1.json\"\n",
      "\n",
      "\n",
      "------------+++ finished pype iteration +++--------------\n",
      "-------(End with Ctrl+Enter or re-run with Enter)--------\n",
      "\n",
      "\n",
      "AUTOSHOW\n",
      "\n",
      "\n",
      "TERMINATE\n",
      "\n",
      "AUTOSAVE\n",
      "- nothing to autosave\n",
      "\n",
      "AUTOLOAD\n",
      "- reference template image loaded from root directory\n",
      "Stage: add annotation control args\n",
      "Stage: add annotation control args\n",
      "Stage: add annotation control args\n",
      "Stage: add annotation control args\n",
      "Stage: add annotation control args\n",
      "Stage: add annotation control args\n",
      "Stage: add annotation control args\n",
      "Updating pype config: applying staged changes\n",
      "\n",
      "\n",
      "------------+++ new pype iteration 2023-10-28 14:57:27 +++--------------\n",
      "\n",
      "==> image name: isopods4.jpg\n",
      "\n",
      "\n",
      "PREPROCESSING\n",
      "create_mask\n",
      "detect_reference\n",
      "---------------------------------------------------\n",
      "Reference card found with 197 keypoint matches:\n",
      "template image has 22.581 pixel per mm.\n",
      "current image has 23.207 pixel per mm.\n",
      "= 102.771 %% of template image.\n",
      "---------------------------------------------------\n",
      "blur\n",
      "\n",
      "\n",
      "SEGMENTATION\n",
      "threshold\n",
      "- decompose image: using blue channel\n",
      "- including pixels from 1 drawn masks \n",
      "- excluding pixels from reference\n",
      "morphology\n",
      "detect_contour\n",
      "- found 13 contours that match criteria\n",
      "edit_contour\n",
      "detect_contour\n",
      "- found 13 contours that match criteria\n",
      "\n",
      "\n",
      "MEASUREMENT\n",
      "compute_shape_features\n",
      "compute_texture_features\n"
     ]
    },
    {
     "name": "stderr",
     "output_type": "stream",
     "text": [
      "Computing texture features: 100%|██████████████████████████████████████████████████████| 13/13 [00:00<00:00, 22.81it/s]\n"
     ]
    },
    {
     "name": "stdout",
     "output_type": "stream",
     "text": [
      "\n",
      "\n",
      "VISUALIZATION\n",
      "select_canvas\n",
      "- invalid selection - defaulting to raw image\n",
      "draw_contour\n",
      "draw_mask\n",
      "draw_reference\n",
      "\n",
      "\n",
      "EXPORT\n",
      "save_canvas\n",
      "- image saved under D:\\git-repos\\phenopype\\phenopype-gallery\\source\\projects\\isopod-counting\\phenopype\\data\\0__isopods4\\canvas_v1.jpg.\n",
      "save_annotation\n",
      "- creating new annotation file\n",
      "- no annotation_type selected - exporting all annotations\n",
      "- writing annotations of type \"mask\" with id \"a\" to \"annotations_v1.json\"\n",
      "- writing annotations of type \"reference\" with id \"a\" to \"annotations_v1.json\"\n",
      "- writing annotations of type \"contour\" with id \"a\" to \"annotations_v1.json\"\n",
      "- writing annotations of type \"contour\" with id \"b\" to \"annotations_v1.json\"\n",
      "- writing annotations of type \"drawing\" with id \"a\" to \"annotations_v1.json\"\n",
      "- writing annotations of type \"shape_features\" with id \"a\" to \"annotations_v1.json\"\n",
      "- writing annotations of type \"texture_features\" with id \"a\" to \"annotations_v1.json\"\n",
      "\n",
      "\n",
      "------------+++ finished pype iteration +++--------------\n",
      "-------(End with Ctrl+Enter or re-run with Enter)--------\n",
      "\n",
      "\n",
      "AUTOSHOW\n",
      "\n",
      "\n",
      "TERMINATE\n",
      "\n",
      "AUTOSAVE\n",
      "- nothing to autosave\n"
     ]
    }
   ],
   "source": [
    "for path in proj.dir_paths:\n",
    "    pp.Pype(path, tag=\"v1\")"
   ]
  },
  {
   "cell_type": "markdown",
   "metadata": {},
   "source": [
    "Once you're done, collect the results "
   ]
  },
  {
   "cell_type": "code",
   "execution_count": 6,
   "metadata": {},
   "outputs": [
    {
     "name": "stdout",
     "output_type": "stream",
     "text": [
      "Created D:\\git-repos\\phenopype\\phenopype-gallery\\source\\projects\\isopod-counting\\phenopype\\results\\annotations\n",
      "Search string: ['annotations_v1']\n",
      "Collected annotations_v1.json from 0__isopods1\n",
      "0__isopods1_annotations_v1.json saved under D:\\git-repos\\phenopype\\phenopype-gallery\\source\\projects\\isopod-counting\\phenopype\\results\\annotations\\0__isopods1_annotations_v1.json.\n",
      "Collected annotations_v1.json from 0__isopods2\n",
      "0__isopods2_annotations_v1.json saved under D:\\git-repos\\phenopype\\phenopype-gallery\\source\\projects\\isopod-counting\\phenopype\\results\\annotations\\0__isopods2_annotations_v1.json.\n",
      "Collected annotations_v1.json from 0__isopods3\n",
      "0__isopods3_annotations_v1.json saved under D:\\git-repos\\phenopype\\phenopype-gallery\\source\\projects\\isopod-counting\\phenopype\\results\\annotations\\0__isopods3_annotations_v1.json.\n",
      "Collected annotations_v1.json from 0__isopods4\n",
      "0__isopods4_annotations_v1.json saved under D:\\git-repos\\phenopype\\phenopype-gallery\\source\\projects\\isopod-counting\\phenopype\\results\\annotations\\0__isopods4_annotations_v1.json.\n"
     ]
    }
   ],
   "source": [
    "## collect results and store in folder \"<project-root>/results/annotations\"\n",
    "proj.collect_results(\"v1\", \"annotations\", \"annotations\")"
   ]
  },
  {
   "cell_type": "code",
   "execution_count": null,
   "metadata": {},
   "outputs": [],
   "source": []
  }
 ],
 "metadata": {
  "kernelspec": {
   "display_name": "Python 3 (ipykernel)",
   "language": "python",
   "name": "python3"
  },
  "language_info": {
   "codemirror_mode": {
    "name": "ipython",
    "version": 3
   },
   "file_extension": ".py",
   "mimetype": "text/x-python",
   "name": "python",
   "nbconvert_exporter": "python",
   "pygments_lexer": "ipython3",
   "version": "3.9.18"
  }
 },
 "nbformat": 4,
 "nbformat_minor": 4
}
