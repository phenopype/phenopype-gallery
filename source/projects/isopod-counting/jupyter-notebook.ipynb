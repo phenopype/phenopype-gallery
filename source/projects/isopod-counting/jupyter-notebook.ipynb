{
 "cells": [
  {
   "cell_type": "markdown",
   "metadata": {},
   "source": [
    "# Jupyter notebook: counting  isopods"
   ]
  },
  {
   "cell_type": "markdown",
   "metadata": {},
   "source": [
    "First, if you haven't already done so, download the images and unzip them to the designated folder:"
   ]
  },
  {
   "cell_type": "code",
   "execution_count": 5,
   "metadata": {},
   "outputs": [],
   "source": [
    "import urllib\n",
    "import zipfile\n",
    "\n",
    "images_url = \"https://files.de-1.osf.io/v1/resources/rxubv/providers/osfstorage/65394dd4282745120cb86bcc/?zip=\"\n",
    "extract_dir = \"images\"\n",
    "\n",
    "zip_path, _ = urllib.request.urlretrieve(images_url)\n",
    "with zipfile.ZipFile(zip_path, \"r\") as f:\n",
    "    f.extractall(extract_dir)"
   ]
  },
  {
   "cell_type": "markdown",
   "metadata": {},
   "source": [
    "Next, import phenopype and assign some directoy and file names: "
   ]
  },
  {
   "cell_type": "code",
   "execution_count": 10,
   "metadata": {},
   "outputs": [],
   "source": [
    "import phenopype as pp\n",
    "import os\n",
    "\n",
    "root_dir = r\"phenopype\"        ## project root dir\n",
    "image_dir = \"images\"                   ## folder with images\n",
    "template = \"template-config.yaml\"      ## image processing instructions"
   ]
  },
  {
   "cell_type": "markdown",
   "metadata": {},
   "source": [
    "Now, create a phenopype project, and add images and config:"
   ]
  },
  {
   "cell_type": "code",
   "execution_count": 8,
   "metadata": {},
   "outputs": [
    {
     "name": "stdout",
     "output_type": "stream",
     "text": [
      "--------------------------------------------\n",
      "Found existing project root directory - loading from:\n",
      "D:\\git-repos\\phenopype\\phenopype-gallery\\source\\projects\\isopod-counting\\phenopype-project\n",
      "\n",
      "Checks for directory completeness passed!\n",
      "\n",
      "Project \"phenopype-project\" successfully loaded, but it didn't contain any images!\n",
      "--------------------------------------------\n"
     ]
    }
   ],
   "source": [
    "proj = pp.Project(root_dir)"
   ]
  },
  {
   "cell_type": "code",
   "execution_count": 9,
   "metadata": {},
   "outputs": [
    {
     "name": "stdout",
     "output_type": "stream",
     "text": [
      "--------------------------------------------\n",
      "phenopype will search for image files at\n",
      "\n",
      "D:\\git-repos\\phenopype\\phenopype-gallery\\source\\projects\\isopod-counting\\data\\isopod-counting\n",
      "\n",
      "using the following settings:\n",
      "\n",
      "filetypes: ['jpg', 'JPG', 'jpeg', 'JPEG', 'tif', 'png', 'bmp'], include: isopods, exclude: [], mode: link, recursive: False, resize: False, unique: path\n",
      "\n",
      "Found image isopods1.jpg - 0__isopods1 already exists (overwrite=False)\n",
      "Found image isopods2.jpg - 0__isopods2 already exists (overwrite=False)\n",
      "Found image isopods3.jpg - 0__isopods3 already exists (overwrite=False)\n",
      "Found image isopods4.jpg - 0__isopods4 already exists (overwrite=False)\n",
      "\n",
      "Found 4 files - using all\n",
      "--------------------------------------------\n",
      "- template saved under D:\\git-repos\\phenopype\\phenopype-gallery\\source\\projects\\isopod-counting\\phenopype\\isopod-counting\\data\\0__isopods1\\pype_config_v1.yaml (overwritten)\n",
      "- template saved under D:\\git-repos\\phenopype\\phenopype-gallery\\source\\projects\\isopod-counting\\phenopype\\isopod-counting\\data\\0__isopods2\\pype_config_v1.yaml (overwritten)\n",
      "- template saved under D:\\git-repos\\phenopype\\phenopype-gallery\\source\\projects\\isopod-counting\\phenopype\\isopod-counting\\data\\0__isopods3\\pype_config_v1.yaml (overwritten)\n",
      "- template saved under D:\\git-repos\\phenopype\\phenopype-gallery\\source\\projects\\isopod-counting\\phenopype\\isopod-counting\\data\\0__isopods4\\pype_config_v1.yaml (overwritten)\n"
     ]
    }
   ],
   "source": [
    "## add all isopod-images from the data folder\n",
    "proj.add_files(image_dir = image_dir, include=\"isopods\", mode=\"link\")\n",
    "\n",
    "## add the config template; provide a tag\n",
    "proj.add_config(template_path=template, tag=\"v1\", overwrite=True)"
   ]
  },
  {
   "cell_type": "markdown",
   "metadata": {},
   "source": [
    "Add a project-wide reference that will be detected in the images:\n",
    "\n",
    "<center>\n",
    "<div style=\"width:600px; text-align: left\">\n",
    "    \n",
    "![](_assets/measure-reference.gif)\n",
    "        \n",
    "</div>\n",
    "</center>"
   ]
  },
  {
   "cell_type": "code",
   "execution_count": null,
   "metadata": {},
   "outputs": [],
   "source": [
    "## set the project-wide reference. the reference has its own tag, in case your project uses multiple reference cards\n",
    "proj.add_reference(reference_image_path= os.path.join(image_dir,\"isopods1.jpg\"), reference_tag=\"iso-scale\")"
   ]
  },
  {
   "cell_type": "markdown",
   "metadata": {},
   "source": [
    "Finally, loop through the images of the project with the `Pype` class:"
   ]
  },
  {
   "cell_type": "code",
   "execution_count": null,
   "metadata": {},
   "outputs": [],
   "source": [
    "for path in proj.dir_paths:\n",
    "    pp.Pype(path, tag=\"v1\")"
   ]
  },
  {
   "cell_type": "markdown",
   "metadata": {},
   "source": [
    "Some comments on the settings: changing `blocksize` and `constant` on the threshold algorithm has a great effect on the result. This becomes evident when looking at the binarized image, which shows increasing blocksizes. You can inspect the binary images yourself by selecting `canvas: mod` in `- select_canvas`\n",
    "\n",
    "<center>\n",
    "<div style=\"width:600px; text-align: left\">\n",
    "    \n",
    "![](_assets/thresholding.jpg)\n",
    "    \n",
    "</div>\n",
    "</center>"
   ]
  },
  {
   "cell_type": "markdown",
   "metadata": {},
   "source": [
    "Once you're done, collect the results "
   ]
  },
  {
   "cell_type": "code",
   "execution_count": null,
   "metadata": {},
   "outputs": [],
   "source": [
    "## collect results and store in folder \"<project-root>/results/annotations\"\n",
    "proj.collect_results(\"v1\", \"annotations\", \"annotations\")"
   ]
  },
  {
   "cell_type": "code",
   "execution_count": null,
   "metadata": {},
   "outputs": [],
   "source": []
  }
 ],
 "metadata": {
  "kernelspec": {
   "display_name": "Python 3 (ipykernel)",
   "language": "python",
   "name": "python3"
  },
  "language_info": {
   "codemirror_mode": {
    "name": "ipython",
    "version": 3
   },
   "file_extension": ".py",
   "mimetype": "text/x-python",
   "name": "python",
   "nbconvert_exporter": "python",
   "pygments_lexer": "ipython3",
   "version": "3.9.18"
  }
 },
 "nbformat": 4,
 "nbformat_minor": 4
}
